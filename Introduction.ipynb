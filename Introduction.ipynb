{
 "cells": [
  {
   "cell_type": "markdown",
   "metadata": {
    "collapsed": true
   },
   "source": [
    "# Finding the Right Location for Your Store\n",
    "\n",
    "**Muhsina Elampilakkattil**  \n",
    "February 13, 2019"
   ]
  },
  {
   "cell_type": "markdown",
   "metadata": {},
   "source": [
    "## 1. Introduction"
   ]
  },
  {
   "cell_type": "markdown",
   "metadata": {},
   "source": [
    "### 1.1 Background  \n",
    "A hypermarket is a superstore carrying a wide range of products under one roof, and theoretically allows customers to satisfy all their shopping needs in one trip. Selecting the right location is the key element for attracting customers to any store. You can make more profit if you start a business that is in demand and you are able to attract the customers. Retail location considered to be one of the most important element in our retail marketing strategy, because it is a long-term decison associated with long-term capital. Once we have selected the location and started business, the decision cannot be changed easily without a loss. \n",
    "Therefore selecting the location for your store is a crucial decision every businessmen need to make. It is advantageous for retailers to suggest a right location for their business. "
   ]
  },
  {
   "cell_type": "markdown",
   "metadata": {},
   "source": [
    "### 1.2 Problem\n",
    "AMG is a retail corporation that operates a chain of hypermarkets in UAE. They are planning to expand their business to India. They need to find the right locations for starting their stores in India. While selecting location for a store we need to consider several factors like the transportation easyness, proximity to residential area, competitors nearby, the demographics, age groups, profession, income groups, life style, religion, etc. \n",
    "We can use the Foursquare location data to find the informations like these."
   ]
  },
  {
   "cell_type": "code",
   "execution_count": 1,
   "metadata": {},
   "outputs": [],
   "source": [
    "# @hidden_cell\n",
    "# [List of hypermarkets](https://en.wikipedia.org/wiki/List_of_hypermarkets)\n"
   ]
  },
  {
   "cell_type": "code",
   "execution_count": null,
   "metadata": {},
   "outputs": [],
   "source": []
  }
 ],
 "metadata": {
  "kernelspec": {
   "display_name": "Python 3.5",
   "language": "python",
   "name": "python3"
  },
  "language_info": {
   "codemirror_mode": {
    "name": "ipython",
    "version": 3
   },
   "file_extension": ".py",
   "mimetype": "text/x-python",
   "name": "python",
   "nbconvert_exporter": "python",
   "pygments_lexer": "ipython3",
   "version": "3.5.5"
  }
 },
 "nbformat": 4,
 "nbformat_minor": 1
}
